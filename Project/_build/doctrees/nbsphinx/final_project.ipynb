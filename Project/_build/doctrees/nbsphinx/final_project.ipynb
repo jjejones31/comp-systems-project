{
 "cells": [
  {
   "cell_type": "markdown",
   "metadata": {
    "id": "fvpIO7wPuvuB"
   },
   "source": [
    "## Mobile Country of Origin Classification"
   ]
  },
  {
   "cell_type": "markdown",
   "metadata": {
    "id": "AVy8TPHhVT5h"
   },
   "source": [
    "Sydney Bergen and Justin Jones"
   ]
  },
  {
   "cell_type": "markdown",
   "metadata": {},
   "source": [
    "The goal of this project is to train data and predict a classifier for country of origin for mobile apps. We are using the dataset from nprint. The original intended purpose for this dataset was to \"examine the privacy of the 100 most popular IOS and Android applications in India, China, and the US."
   ]
  },
  {
   "cell_type": "markdown",
   "metadata": {
    "id": "BAvtU_N1uvzN"
   },
   "source": [
    "#### 1. Load Libraries"
   ]
  },
  {
   "cell_type": "markdown",
   "metadata": {},
   "source": [
    "The first thing to be done is install netml and several other libraries for later usage."
   ]
  },
  {
   "cell_type": "code",
   "execution_count": null,
   "metadata": {
    "id": "wTrtebeis5to"
   },
   "outputs": [],
   "source": [
    "from sklearn.model_selection import train_test_split\n",
    "from netml.pparser.parser import PCAP\n",
    "from netml.ndm.gmm import GMM\n",
    "from netml.ndm.pca import PCA\n",
    "from netml.ndm.model import MODEL\n",
    "from netml.ndm.ocsvm import OCSVM\n",
    "import numpy as np\n",
    "from netml.ndm.kde import KDE\n",
    "from netml.ndm.iforest import IF\n",
    "from netml.ndm.gmm import GMM\n",
    "import sklearn\n",
    "from sklearn.preprocessing import LabelEncoder\n",
    "from sklearn.model_selection import train_test_split\n",
    "from sklearn.metrics import accuracy_score\n",
    "from sklearn.tree import DecisionTreeClassifier\n",
    "import matplotlib as mpl\n",
    "import matplotlib.pyplot as plt\n",
    "%matplotlib inline\n",
    "from sklearn.metrics import confusion_matrix\n",
    "from sklearn.metrics import ConfusionMatrixDisplay\n",
    "from sklearn.metrics import classification_report\n",
    "\n",
    "import warnings\n",
    "warnings.filterwarnings('ignore')\n",
    "\n",
    "plt.rcParams[\"figure.figsize\"] = (8,6)"
   ]
  },
  {
   "cell_type": "markdown",
   "metadata": {
    "id": "f_FsL6MVu7D4"
   },
   "source": [
    "#### 2. Load Data"
   ]
  },
  {
   "cell_type": "markdown",
   "metadata": {},
   "source": [
    "We took the original data from https://drive.google.com/file/d/1QRRY5gPPrZ9keOdDORmuGStVjFGapuMn/view?usp=sharing and noticed that it was not labelled with a column, but rather in the comments. Sorting the comments, we decided to separate the large pcapng file into 3 separate ones: china, india and us. We can use netml to convert the pcap files to flows."
   ]
  },
  {
   "cell_type": "code",
   "execution_count": null,
   "metadata": {
    "id": "fUTX7eZgu9tK"
   },
   "outputs": [],
   "source": [
    "RANDOM_STATE = 42\n",
    "\n",
    "china = PCAP(\n",
    "    '/content/china.pcapng', ## you might need to upload the file again\n",
    "    flow_ptks_thres=1,\n",
    "    random_state=42,\n",
    "    verbose=0,\n",
    ")\n",
    "\n",
    "india = PCAP(\n",
    "    '/content/india.pcapng', ## you might need to upload the file again\n",
    "    flow_ptks_thres=1,\n",
    "    random_state=42,\n",
    "    verbose=0,\n",
    ")\n",
    "\n",
    "us = PCAP(\n",
    "    '/content/us.pcapng', ## you might need to upload the file again\n",
    "    flow_ptks_thres=1,\n",
    "    random_state=42,\n",
    "    verbose=0,\n",
    ")"
   ]
  },
  {
   "cell_type": "code",
   "execution_count": null,
   "metadata": {
    "colab": {
     "base_uri": "https://localhost:8080/"
    },
    "id": "mg52AqaihPRQ",
    "outputId": "68b43797-688b-46b9-e9e9-f4142c3ec5e5"
   },
   "outputs": [
    {
     "name": "stdout",
     "output_type": "stream",
     "text": [
      "'_pcap2flows()' starts at 2022-12-05 23:00:14\n",
      "'_pcap2flows()' ends at 2022-12-05 23:00:16 and takes 0.0245 mins.\n",
      "'_pcap2flows()' starts at 2022-12-05 23:00:16\n",
      "'_pcap2flows()' ends at 2022-12-05 23:00:18 and takes 0.0321 mins.\n",
      "'_pcap2flows()' starts at 2022-12-05 23:00:18\n",
      "'_pcap2flows()' ends at 2022-12-05 23:00:19 and takes 0.0284 mins.\n"
     ]
    }
   ],
   "source": [
    "china.pcap2flows()\n",
    "india.pcap2flows()\n",
    "us.pcap2flows()"
   ]
  },
  {
   "cell_type": "markdown",
   "metadata": {
    "id": "lY6giFkSu97H"
   },
   "source": [
    "#### 3. Feature Selection"
   ]
  },
  {
   "cell_type": "markdown",
   "metadata": {},
   "source": [
    "With the flows, we can select and extract features. We used IAT to see different features, which present flows as timeseries of inter-arrival times between packets. At the end of this step, we make a label for each dataset and combine them. Additionally, we use the train_test_split function to create our training and testing datasets."
   ]
  },
  {
   "cell_type": "code",
   "execution_count": null,
   "metadata": {
    "colab": {
     "base_uri": "https://localhost:8080/"
    },
    "id": "-Tsutle2vBT_",
    "outputId": "527833fc-7ca6-4643-b899-5ffbc8e27004"
   },
   "outputs": [
    {
     "name": "stdout",
     "output_type": "stream",
     "text": [
      "'_label_flows()' starts at 2022-12-05 23:00:19\n",
      "'_label_flows()' ends at 2022-12-05 23:00:19 and takes 0.0 mins.\n",
      "'_label_flows()' starts at 2022-12-05 23:00:19\n",
      "'_label_flows()' ends at 2022-12-05 23:00:19 and takes 0.0 mins.\n",
      "'_label_flows()' starts at 2022-12-05 23:00:19\n",
      "'_label_flows()' ends at 2022-12-05 23:00:19 and takes 0.0 mins.\n"
     ]
    }
   ],
   "source": [
    "# label each flow \n",
    "china.label_flows(label=0)\n",
    "india.label_flows(label=1)\n",
    "us.label_flows(label=2)"
   ]
  },
  {
   "cell_type": "code",
   "execution_count": null,
   "metadata": {
    "colab": {
     "base_uri": "https://localhost:8080/"
    },
    "id": "QG0lYNmwSk7x",
    "outputId": "4a1ea4c0-5061-429b-9204-820161d3d086"
   },
   "outputs": [
    {
     "name": "stdout",
     "output_type": "stream",
     "text": [
      "'_flow2features()' starts at 2022-12-05 23:00:19\n",
      "'_flow2features()' ends at 2022-12-05 23:00:19 and takes 0.0002 mins.\n",
      "'_flow2features()' starts at 2022-12-05 23:00:19\n",
      "'_flow2features()' ends at 2022-12-05 23:00:19 and takes 0.0002 mins.\n",
      "'_flow2features()' starts at 2022-12-05 23:00:19\n",
      "'_flow2features()' ends at 2022-12-05 23:00:19 and takes 0.0001 mins.\n"
     ]
    }
   ],
   "source": [
    "## extract features\n",
    "china.flow2features('IAT', fft=False, header=False)\n",
    "india.flow2features('IAT', fft=False, header=False)\n",
    "us.flow2features('IAT', fft=False, header=False)"
   ]
  },
  {
   "cell_type": "code",
   "execution_count": null,
   "metadata": {
    "id": "yAt1e9u8Sxx_"
   },
   "outputs": [],
   "source": [
    "(features_china, labels_china) = (china.features[:,:5], china.labels)\n",
    "(features_india, labels_india) = (india.features[:,:5], india.labels)\n",
    "(features_us, labels_us) = (us.features[:,:5], us.labels)\n",
    "\n",
    "(features, labels) = (np.concatenate((features_china, features_india, features_us), axis=0) , \n",
    "                       np.concatenate((labels_china, labels_india, labels_us), axis=0))"
   ]
  },
  {
   "cell_type": "code",
   "execution_count": null,
   "metadata": {
    "id": "QQFKL4nLgN1D"
   },
   "outputs": [],
   "source": [
    "# split train and test sets\n",
    "(features_train,\n",
    "    features_test,\n",
    "    labels_train,\n",
    "    labels_test,\n",
    ") = train_test_split(features, labels, test_size=0.33, random_state=RANDOM_STATE)"
   ]
  },
  {
   "cell_type": "markdown",
   "metadata": {
    "id": "qJhrAd4NvB6U"
   },
   "source": [
    "#### 4. Model Selection and Training"
   ]
  },
  {
   "cell_type": "markdown",
   "metadata": {},
   "source": [
    "With our datasets ready to be used, we can now create our models and test their accuracies in predicting our test dataset's labels."
   ]
  },
  {
   "cell_type": "markdown",
   "metadata": {
    "id": "iT5BGNs-ULjc"
   },
   "source": [
    "##### Unsupervised Learning models"
   ]
  },
  {
   "cell_type": "code",
   "execution_count": null,
   "metadata": {},
   "outputs": [],
   "source": [
    "# create detection models\n",
    "model1 = KDE(kernel='gaussian', bandwidth=1.0, random_state=RANDOM_STATE)\n",
    "model2 = IF(n_estimators=100, random_state=RANDOM_STATE) ## model with best performance\n",
    "model3 = PCA(n_components=1, random_state=RANDOM_STATE)\n",
    "model4 = OCSVM(kernel='rbf', nu=0.5, random_state=RANDOM_STATE)\n",
    "model5 = GMM(n_components=2, covariance_type='full', random_state=RANDOM_STATE)\n",
    "\n",
    "model1.name = 'KDE'\n",
    "model2.name = 'IF'\n",
    "model3.name = 'PCA'\n",
    "model4.name = 'OCSVM'\n",
    "model5.name = 'GMM'\n",
    "\n",
    "ndm1 = MODEL(model1, score_metric='auc', verbose=0, random_state=RANDOM_STATE)\n",
    "ndm2 = MODEL(model2, score_metric='auc', verbose=0, random_state=RANDOM_STATE)\n",
    "ndm3 = MODEL(model3, score_metric='auc', verbose=0, random_state=RANDOM_STATE)\n",
    "ndm4 = MODEL(model4, score_metric='auc', verbose=0, random_state=RANDOM_STATE)\n",
    "ndm5 = MODEL(model5, score_metric='auc', verbose=0, random_state=RANDOM_STATE)\n",
    "\n",
    "# train the models from the train set\n",
    "ndm1.train(features_train)\n",
    "ndm2.train(features_train)\n",
    "ndm3.train(features_train)\n",
    "ndm4.train(features_train)\n",
    "ndm5.train(features_train)\n",
    "\n",
    "# evaluate the trained models\n",
    "ndm1.test(features_test, labels_test)\n",
    "ndm2.test(features_test, labels_test)\n",
    "ndm3.test(features_test, labels_test)\n",
    "ndm4.test(features_test, labels_test)\n",
    "ndm5.test(features_test, labels_test)"
   ]
  },
  {
   "cell_type": "code",
   "execution_count": null,
   "metadata": {
    "colab": {
     "base_uri": "https://localhost:8080/"
    },
    "id": "LXzhHdXxVG8C",
    "outputId": "f7fbf746-cc09-4453-a50d-5b94e219fb1d"
   },
   "outputs": [
    {
     "name": "stdout",
     "output_type": "stream",
     "text": [
      "0.0029 0.0 0.7122805795486208\n",
      "0.0029 0.0 0.4059452493730844\n",
      "0.0029 0.0 0.6816836166062971\n",
      "0.0029 0.0 0.6516613262747283\n",
      "0.0029 0.0 0.6077249930342714\n"
     ]
    }
   ],
   "source": [
    "# model performances\n",
    "print(ndm1.train.tot_time, ndm1.test.tot_time, ndm1.score)\n",
    "print(ndm2.train.tot_time, ndm2.test.tot_time, ndm2.score)\n",
    "print(ndm3.train.tot_time, ndm3.test.tot_time, ndm3.score)\n",
    "print(ndm4.train.tot_time, ndm4.test.tot_time, ndm4.score)\n",
    "print(ndm5.train.tot_time, ndm5.test.tot_time, ndm5.score)"
   ]
  },
  {
   "cell_type": "markdown",
   "metadata": {
    "id": "K6zYaqPfVIMi"
   },
   "source": [
    "##### Supervised Learning"
   ]
  },
  {
   "cell_type": "markdown",
   "metadata": {
    "id": "9N_BBuMbfRXh"
   },
   "source": [
    "Decision Tree"
   ]
  },
  {
   "cell_type": "code",
   "execution_count": null,
   "metadata": {
    "colab": {
     "base_uri": "https://localhost:8080/"
    },
    "id": "vyF2QddvvFar",
    "outputId": "15164f05-846b-4e67-9130-2bc3601e98a1"
   },
   "outputs": [
    {
     "name": "stdout",
     "output_type": "stream",
     "text": [
      "0.7673469387755102\n"
     ]
    }
   ],
   "source": [
    "from sklearn import tree\n",
    "\n",
    "clf = tree.DecisionTreeClassifier()\n",
    "clf = clf.fit(features_train, labels_train)\n",
    "\n",
    "y_hat = clf.predict(features_test)\n",
    "\n",
    "accuracy = accuracy_score(labels_test,  y_hat)\n",
    "\n",
    "# print the predictions and the accuracy\n",
    "print(accuracy)"
   ]
  },
  {
   "cell_type": "code",
   "execution_count": null,
   "metadata": {
    "id": "9QM10qUTkWJL"
   },
   "outputs": [],
   "source": [
    "print(classification_report(labels_test, y_hat))"
   ]
  },
  {
   "cell_type": "code",
   "execution_count": null,
   "metadata": {
    "colab": {
     "base_uri": "https://localhost:8080/",
     "height": 388
    },
    "id": "Afz1flMkk_9S",
    "outputId": "f9e5ba14-6fa4-4620-b0aa-db080ce173fc"
   },
   "outputs": [
    {
     "data": {
      "image/png": "[encoded data removed]",
      "text/plain": [
       "<Figure size 576x432 with 2 Axes>"
      ]
     },
     "metadata": {
      "needs_background": "light"
     },
     "output_type": "display_data"
    }
   ],
   "source": [
    "cm = confusion_matrix(labels_test, y_hat)\n",
    "\n",
    "cm_display = ConfusionMatrixDisplay(cm).plot()"
   ]
  },
  {
   "cell_type": "markdown",
   "metadata": {
    "id": "S-tEewDyfTFs"
   },
   "source": [
    "Random Forest"
   ]
  },
  {
   "cell_type": "code",
   "execution_count": null,
   "metadata": {
    "colab": {
     "base_uri": "https://localhost:8080/"
    },
    "id": "iSsF01SZfd2t",
    "outputId": "0f707349-da5f-49de-d5b4-8f3d2b61d287"
   },
   "outputs": [
    {
     "name": "stdout",
     "output_type": "stream",
     "text": [
      "0.789795918367347\n"
     ]
    }
   ],
   "source": [
    "from sklearn.ensemble import RandomForestClassifier\n",
    "rf = RandomForestClassifier()\n",
    "\n",
    "# train the classifier using the labeled points\n",
    "rf.fit(features_train, labels_train)\n",
    "y_hat = rf.predict(features_test)\n",
    "accuracy = accuracy_score(labels_test,  y_hat)\n",
    "\n",
    "print(accuracy)"
   ]
  },
  {
   "cell_type": "code",
   "execution_count": null,
   "metadata": {
    "colab": {
     "base_uri": "https://localhost:8080/"
    },
    "id": "OpDKWK2dkMxf",
    "outputId": "8d3306a8-b667-4bfd-f3fc-937460864bd9"
   },
   "outputs": [
    {
     "name": "stdout",
     "output_type": "stream",
     "text": [
      "              precision    recall  f1-score   support\n",
      "\n",
      "           0       0.87      0.90      0.89       147\n",
      "           1       0.75      0.79      0.77       194\n",
      "           2       0.75      0.68      0.71       149\n",
      "\n",
      "    accuracy                           0.79       490\n",
      "   macro avg       0.79      0.79      0.79       490\n",
      "weighted avg       0.79      0.79      0.79       490\n",
      "\n"
     ]
    }
   ],
   "source": [
    "from sklearn.metrics import classification_report\n",
    "print(classification_report(labels_test, y_hat))"
   ]
  },
  {
   "cell_type": "code",
   "execution_count": null,
   "metadata": {
    "id": "_hVXoZnAlPfM"
   },
   "outputs": [],
   "source": [
    "cm = confusion_matrix(labels_test, y_hat)\n",
    "\n",
    "cm_display = ConfusionMatrixDisplay(cm).plot()"
   ]
  },
  {
   "cell_type": "markdown",
   "metadata": {
    "id": "lxYag6Tcfe_A"
   },
   "source": [
    "Naive Bayes"
   ]
  },
  {
   "cell_type": "code",
   "execution_count": null,
   "metadata": {
    "colab": {
     "base_uri": "https://localhost:8080/"
    },
    "id": "KDxS2Z4dfhmA",
    "outputId": "1e75d805-29ce-4829-9d8d-f480407d0824"
   },
   "outputs": [
    {
     "name": "stdout",
     "output_type": "stream",
     "text": [
      "Number of mislabeled points out of a total 490 points : 234\n"
     ]
    }
   ],
   "source": [
    "from sklearn.naive_bayes import GaussianNB\n",
    "gnb = GaussianNB()\n",
    "\n",
    "y_pred = gnb.fit(features_train, labels_train).predict(features_test)\n",
    "print(\"Number of mislabeled points out of a total %d points : %d\" % (features_test.shape[0], (labels_test != y_pred).sum()))"
   ]
  },
  {
   "cell_type": "code",
   "execution_count": null,
   "metadata": {
    "colab": {
     "base_uri": "https://localhost:8080/"
    },
    "id": "eEEupE5ckJb9",
    "outputId": "f30bba7c-222d-4984-a8d9-5678efedeccd"
   },
   "outputs": [
    {
     "name": "stdout",
     "output_type": "stream",
     "text": [
      "              precision    recall  f1-score   support\n",
      "\n",
      "           0       0.59      0.32      0.41       147\n",
      "           1       0.74      0.38      0.50       194\n",
      "           2       0.44      0.91      0.59       149\n",
      "\n",
      "    accuracy                           0.52       490\n",
      "   macro avg       0.59      0.54      0.50       490\n",
      "weighted avg       0.60      0.52      0.50       490\n",
      "\n"
     ]
    }
   ],
   "source": [
    "from sklearn.metrics import classification_report\n",
    "print(classification_report(labels_test, y_pred))"
   ]
  },
  {
   "cell_type": "markdown",
   "metadata": {},
   "source": [
    "We can create confusion matrices to visualize the accuracy of our models, as seen below."
   ]
  },
  {
   "cell_type": "code",
   "execution_count": null,
   "metadata": {
    "colab": {
     "base_uri": "https://localhost:8080/",
     "height": 388
    },
    "id": "qWI1porrlRLB",
    "outputId": "7b981ee5-02ce-4956-9609-555b81af8342"
   },
   "outputs": [
    {
     "data": {
      "image/png": "[encoded data removed]",
      "text/plain": [
       "<Figure size 576x432 with 2 Axes>"
      ]
     },
     "metadata": {
      "needs_background": "light"
     },
     "output_type": "display_data"
    }
   ],
   "source": [
    "cm = confusion_matrix(labels_test, y_pred)\n",
    "\n",
    "cm_display = ConfusionMatrixDisplay(cm).plot()"
   ]
  },
  {
   "cell_type": "markdown",
   "metadata": {
    "id": "D7Tbt7ZWvF5L"
   },
   "source": [
    "#### 5. Final Model Training and Tuning"
   ]
  },
  {
   "cell_type": "markdown",
   "metadata": {
    "id": "gVApAc3vheK1"
   },
   "source": [
    "Given the above exploration, it seems like the random forest model is the most accurate. Given that, we now finetune the hyperparameters and perform k cross fold validation to get our final mode. The grid search takes a while to run (~20 minutes) since it is running over many different combinations of hyperparameters. "
   ]
  },
  {
   "cell_type": "code",
   "execution_count": null,
   "metadata": {
    "id": "EWhTf01Ov4kc"
   },
   "outputs": [],
   "source": [
    "from sklearn.model_selection import GridSearchCV \n",
    "import pandas as pd\n",
    "\n",
    "param_grid = {\n",
    "    'bootstrap': [True],\n",
    "    'max_depth': [80, 90, 100, 110],\n",
    "    'max_features': [2, 3],\n",
    "    'min_samples_leaf': [3, 4, 5],\n",
    "    'min_samples_split': [8, 10, 12],\n",
    "    'n_estimators': [100, 200, 300, 1000]\n",
    "}\n",
    "\n",
    "base_estimator = RandomForestClassifier(random_state=0)\n",
    "\n",
    "grid_model = GridSearchCV(base_estimator, param_grid, cv=5, return_train_score=True).fit(features_train, labels_train)"
   ]
  },
  {
   "cell_type": "code",
   "execution_count": null,
   "metadata": {
    "colab": {
     "base_uri": "https://localhost:8080/",
     "height": 488
    },
    "id": "6tiYdw52llQR",
    "outputId": "0153aea2-f2f5-4d75-fad5-793c402c472d"
   },
   "outputs": [
    {
     "data": {
      "text/html": [
       "\n",
       "  <div id=\"df-8c57a3ea-1f97-4d64-aada-48616815528c\">\n",
       "    <div class=\"colab-df-container\">\n",
       "      <div>\n",
       "<style scoped>\n",
       "    .dataframe tbody tr th:only-of-type {\n",
       "        vertical-align: middle;\n",
       "    }\n",
       "\n",
       "    .dataframe tbody tr th {\n",
       "        vertical-align: top;\n",
       "    }\n",
       "\n",
       "    .dataframe thead th {\n",
       "        text-align: right;\n",
       "    }\n",
       "</style>\n",
       "<table border=\"1\" class=\"dataframe\">\n",
       "  <thead>\n",
       "    <tr style=\"text-align: right;\">\n",
       "      <th></th>\n",
       "      <th>mean_fit_time</th>\n",
       "      <th>std_fit_time</th>\n",
       "      <th>mean_score_time</th>\n",
       "      <th>std_score_time</th>\n",
       "      <th>param_bootstrap</th>\n",
       "      <th>param_max_depth</th>\n",
       "      <th>param_max_features</th>\n",
       "      <th>param_min_samples_leaf</th>\n",
       "      <th>param_min_samples_split</th>\n",
       "      <th>param_n_estimators</th>\n",
       "      <th>...</th>\n",
       "      <th>mean_test_score</th>\n",
       "      <th>std_test_score</th>\n",
       "      <th>rank_test_score</th>\n",
       "      <th>split0_train_score</th>\n",
       "      <th>split1_train_score</th>\n",
       "      <th>split2_train_score</th>\n",
       "      <th>split3_train_score</th>\n",
       "      <th>split4_train_score</th>\n",
       "      <th>mean_train_score</th>\n",
       "      <th>std_train_score</th>\n",
       "    </tr>\n",
       "  </thead>\n",
       "  <tbody>\n",
       "    <tr>\n",
       "      <th>0</th>\n",
       "      <td>0.636781</td>\n",
       "      <td>0.140841</td>\n",
       "      <td>0.050959</td>\n",
       "      <td>0.014732</td>\n",
       "      <td>True</td>\n",
       "      <td>80</td>\n",
       "      <td>2</td>\n",
       "      <td>3</td>\n",
       "      <td>8</td>\n",
       "      <td>100</td>\n",
       "      <td>...</td>\n",
       "      <td>0.779229</td>\n",
       "      <td>0.016707</td>\n",
       "      <td>249</td>\n",
       "      <td>0.885246</td>\n",
       "      <td>0.861286</td>\n",
       "      <td>0.875315</td>\n",
       "      <td>0.865239</td>\n",
       "      <td>0.850126</td>\n",
       "      <td>0.867442</td>\n",
       "      <td>0.012013</td>\n",
       "    </tr>\n",
       "    <tr>\n",
       "      <th>1</th>\n",
       "      <td>1.267446</td>\n",
       "      <td>0.165303</td>\n",
       "      <td>0.092825</td>\n",
       "      <td>0.046257</td>\n",
       "      <td>True</td>\n",
       "      <td>80</td>\n",
       "      <td>2</td>\n",
       "      <td>3</td>\n",
       "      <td>8</td>\n",
       "      <td>200</td>\n",
       "      <td>...</td>\n",
       "      <td>0.782250</td>\n",
       "      <td>0.015492</td>\n",
       "      <td>165</td>\n",
       "      <td>0.890290</td>\n",
       "      <td>0.867591</td>\n",
       "      <td>0.874055</td>\n",
       "      <td>0.870277</td>\n",
       "      <td>0.860202</td>\n",
       "      <td>0.872483</td>\n",
       "      <td>0.009992</td>\n",
       "    </tr>\n",
       "    <tr>\n",
       "      <th>2</th>\n",
       "      <td>0.618753</td>\n",
       "      <td>0.195729</td>\n",
       "      <td>0.064154</td>\n",
       "      <td>0.054417</td>\n",
       "      <td>True</td>\n",
       "      <td>80</td>\n",
       "      <td>2</td>\n",
       "      <td>3</td>\n",
       "      <td>8</td>\n",
       "      <td>300</td>\n",
       "      <td>...</td>\n",
       "      <td>0.783255</td>\n",
       "      <td>0.017841</td>\n",
       "      <td>137</td>\n",
       "      <td>0.887768</td>\n",
       "      <td>0.867591</td>\n",
       "      <td>0.871537</td>\n",
       "      <td>0.866499</td>\n",
       "      <td>0.863980</td>\n",
       "      <td>0.871475</td>\n",
       "      <td>0.008503</td>\n",
       "    </tr>\n",
       "    <tr>\n",
       "      <th>3</th>\n",
       "      <td>3.256411</td>\n",
       "      <td>2.034697</td>\n",
       "      <td>0.198477</td>\n",
       "      <td>0.124244</td>\n",
       "      <td>True</td>\n",
       "      <td>80</td>\n",
       "      <td>2</td>\n",
       "      <td>3</td>\n",
       "      <td>8</td>\n",
       "      <td>1000</td>\n",
       "      <td>...</td>\n",
       "      <td>0.780240</td>\n",
       "      <td>0.016120</td>\n",
       "      <td>233</td>\n",
       "      <td>0.887768</td>\n",
       "      <td>0.865069</td>\n",
       "      <td>0.872796</td>\n",
       "      <td>0.866499</td>\n",
       "      <td>0.858942</td>\n",
       "      <td>0.870215</td>\n",
       "      <td>0.009820</td>\n",
       "    </tr>\n",
       "    <tr>\n",
       "      <th>4</th>\n",
       "      <td>0.158247</td>\n",
       "      <td>0.003361</td>\n",
       "      <td>0.011240</td>\n",
       "      <td>0.000152</td>\n",
       "      <td>True</td>\n",
       "      <td>80</td>\n",
       "      <td>2</td>\n",
       "      <td>3</td>\n",
       "      <td>10</td>\n",
       "      <td>100</td>\n",
       "      <td>...</td>\n",
       "      <td>0.780250</td>\n",
       "      <td>0.014322</td>\n",
       "      <td>205</td>\n",
       "      <td>0.871375</td>\n",
       "      <td>0.854981</td>\n",
       "      <td>0.877834</td>\n",
       "      <td>0.858942</td>\n",
       "      <td>0.847607</td>\n",
       "      <td>0.862148</td>\n",
       "      <td>0.010993</td>\n",
       "    </tr>\n",
       "    <tr>\n",
       "      <th>...</th>\n",
       "      <td>...</td>\n",
       "      <td>...</td>\n",
       "      <td>...</td>\n",
       "      <td>...</td>\n",
       "      <td>...</td>\n",
       "      <td>...</td>\n",
       "      <td>...</td>\n",
       "      <td>...</td>\n",
       "      <td>...</td>\n",
       "      <td>...</td>\n",
       "      <td>...</td>\n",
       "      <td>...</td>\n",
       "      <td>...</td>\n",
       "      <td>...</td>\n",
       "      <td>...</td>\n",
       "      <td>...</td>\n",
       "      <td>...</td>\n",
       "      <td>...</td>\n",
       "      <td>...</td>\n",
       "      <td>...</td>\n",
       "      <td>...</td>\n",
       "    </tr>\n",
       "    <tr>\n",
       "      <th>283</th>\n",
       "      <td>1.668076</td>\n",
       "      <td>0.023232</td>\n",
       "      <td>0.116287</td>\n",
       "      <td>0.007534</td>\n",
       "      <td>True</td>\n",
       "      <td>110</td>\n",
       "      <td>3</td>\n",
       "      <td>5</td>\n",
       "      <td>10</td>\n",
       "      <td>1000</td>\n",
       "      <td>...</td>\n",
       "      <td>0.782260</td>\n",
       "      <td>0.005781</td>\n",
       "      <td>149</td>\n",
       "      <td>0.866330</td>\n",
       "      <td>0.843632</td>\n",
       "      <td>0.861461</td>\n",
       "      <td>0.860202</td>\n",
       "      <td>0.840050</td>\n",
       "      <td>0.854335</td>\n",
       "      <td>0.010466</td>\n",
       "    </tr>\n",
       "    <tr>\n",
       "      <th>284</th>\n",
       "      <td>0.171320</td>\n",
       "      <td>0.016470</td>\n",
       "      <td>0.011501</td>\n",
       "      <td>0.000480</td>\n",
       "      <td>True</td>\n",
       "      <td>110</td>\n",
       "      <td>3</td>\n",
       "      <td>5</td>\n",
       "      <td>12</td>\n",
       "      <td>100</td>\n",
       "      <td>...</td>\n",
       "      <td>0.783275</td>\n",
       "      <td>0.009870</td>\n",
       "      <td>109</td>\n",
       "      <td>0.860025</td>\n",
       "      <td>0.846154</td>\n",
       "      <td>0.863980</td>\n",
       "      <td>0.848866</td>\n",
       "      <td>0.843829</td>\n",
       "      <td>0.852571</td>\n",
       "      <td>0.007963</td>\n",
       "    </tr>\n",
       "    <tr>\n",
       "      <th>285</th>\n",
       "      <td>0.330961</td>\n",
       "      <td>0.009858</td>\n",
       "      <td>0.021949</td>\n",
       "      <td>0.000567</td>\n",
       "      <td>True</td>\n",
       "      <td>110</td>\n",
       "      <td>3</td>\n",
       "      <td>5</td>\n",
       "      <td>12</td>\n",
       "      <td>200</td>\n",
       "      <td>...</td>\n",
       "      <td>0.780250</td>\n",
       "      <td>0.008574</td>\n",
       "      <td>205</td>\n",
       "      <td>0.861286</td>\n",
       "      <td>0.851198</td>\n",
       "      <td>0.860202</td>\n",
       "      <td>0.856423</td>\n",
       "      <td>0.842569</td>\n",
       "      <td>0.854336</td>\n",
       "      <td>0.006861</td>\n",
       "    </tr>\n",
       "    <tr>\n",
       "      <th>286</th>\n",
       "      <td>0.504218</td>\n",
       "      <td>0.019710</td>\n",
       "      <td>0.032527</td>\n",
       "      <td>0.000787</td>\n",
       "      <td>True</td>\n",
       "      <td>110</td>\n",
       "      <td>3</td>\n",
       "      <td>5</td>\n",
       "      <td>12</td>\n",
       "      <td>300</td>\n",
       "      <td>...</td>\n",
       "      <td>0.782270</td>\n",
       "      <td>0.013063</td>\n",
       "      <td>141</td>\n",
       "      <td>0.858764</td>\n",
       "      <td>0.848676</td>\n",
       "      <td>0.861461</td>\n",
       "      <td>0.845088</td>\n",
       "      <td>0.843829</td>\n",
       "      <td>0.851564</td>\n",
       "      <td>0.007210</td>\n",
       "    </tr>\n",
       "    <tr>\n",
       "      <th>287</th>\n",
       "      <td>1.648771</td>\n",
       "      <td>0.013266</td>\n",
       "      <td>0.113685</td>\n",
       "      <td>0.007941</td>\n",
       "      <td>True</td>\n",
       "      <td>110</td>\n",
       "      <td>3</td>\n",
       "      <td>5</td>\n",
       "      <td>12</td>\n",
       "      <td>1000</td>\n",
       "      <td>...</td>\n",
       "      <td>0.784290</td>\n",
       "      <td>0.013017</td>\n",
       "      <td>81</td>\n",
       "      <td>0.854981</td>\n",
       "      <td>0.841110</td>\n",
       "      <td>0.858942</td>\n",
       "      <td>0.846348</td>\n",
       "      <td>0.837531</td>\n",
       "      <td>0.847782</td>\n",
       "      <td>0.008100</td>\n",
       "    </tr>\n",
       "  </tbody>\n",
       "</table>\n",
       "<p>288 rows × 26 columns</p>\n",
       "</div>\n",
       "      <button class=\"colab-df-convert\" onclick=\"convertToInteractive('df-8c57a3ea-1f97-4d64-aada-48616815528c')\"\n",
       "              title=\"Convert this dataframe to an interactive table.\"\n",
       "              style=\"display:none;\">\n",
       "        \n",
       "  <svg xmlns=\"http://www.w3.org/2000/svg\" height=\"24px\"viewBox=\"0 0 24 24\"\n",
       "       width=\"24px\">\n",
       "    <path d=\"M0 0h24v24H0V0z\" fill=\"none\"/>\n",
       "    <path d=\"M18.56 5.44l.94 2.06.94-2.06 2.06-.94-2.06-.94-.94-2.06-.94 2.06-2.06.94zm-11 1L8.5 8.5l.94-2.06 2.06-.94-2.06-.94L8.5 2.5l-.94 2.06-2.06.94zm10 10l.94 2.06.94-2.06 2.06-.94-2.06-.94-.94-2.06-.94 2.06-2.06.94z\"/><path d=\"M17.41 7.96l-1.37-1.37c-.4-.4-.92-.59-1.43-.59-.52 0-1.04.2-1.43.59L10.3 9.45l-7.72 7.72c-.78.78-.78 2.05 0 2.83L4 21.41c.39.39.9.59 1.41.59.51 0 1.02-.2 1.41-.59l7.78-7.78 2.81-2.81c.8-.78.8-2.07 0-2.86zM5.41 20L4 18.59l7.72-7.72 1.47 1.35L5.41 20z\"/>\n",
       "  </svg>\n",
       "      </button>\n",
       "      \n",
       "  <style>\n",
       "    .colab-df-container {\n",
       "      display:flex;\n",
       "      flex-wrap:wrap;\n",
       "      gap: 12px;\n",
       "    }\n",
       "\n",
       "    .colab-df-convert {\n",
       "      background-color: #E8F0FE;\n",
       "      border: none;\n",
       "      border-radius: 50%;\n",
       "      cursor: pointer;\n",
       "      display: none;\n",
       "      fill: #1967D2;\n",
       "      height: 32px;\n",
       "      padding: 0 0 0 0;\n",
       "      width: 32px;\n",
       "    }\n",
       "\n",
       "    .colab-df-convert:hover {\n",
       "      background-color: #E2EBFA;\n",
       "      box-shadow: 0px 1px 2px rgba(60, 64, 67, 0.3), 0px 1px 3px 1px rgba(60, 64, 67, 0.15);\n",
       "      fill: #174EA6;\n",
       "    }\n",
       "\n",
       "    [theme=dark] .colab-df-convert {\n",
       "      background-color: #3B4455;\n",
       "      fill: #D2E3FC;\n",
       "    }\n",
       "\n",
       "    [theme=dark] .colab-df-convert:hover {\n",
       "      background-color: #434B5C;\n",
       "      box-shadow: 0px 1px 3px 1px rgba(0, 0, 0, 0.15);\n",
       "      filter: drop-shadow(0px 1px 2px rgba(0, 0, 0, 0.3));\n",
       "      fill: #FFFFFF;\n",
       "    }\n",
       "  </style>\n",
       "\n",
       "      <script>\n",
       "        const buttonEl =\n",
       "          document.querySelector('#df-8c57a3ea-1f97-4d64-aada-48616815528c button.colab-df-convert');\n",
       "        buttonEl.style.display =\n",
       "          google.colab.kernel.accessAllowed ? 'block' : 'none';\n",
       "\n",
       "        async function convertToInteractive(key) {\n",
       "          const element = document.querySelector('#df-8c57a3ea-1f97-4d64-aada-48616815528c');\n",
       "          const dataTable =\n",
       "            await google.colab.kernel.invokeFunction('convertToInteractive',\n",
       "                                                     [key], {});\n",
       "          if (!dataTable) return;\n",
       "\n",
       "          const docLinkHtml = 'Like what you see? Visit the ' +\n",
       "            '<a target=\"_blank\" href=https://colab.research.google.com/notebooks/data_table.ipynb>data table notebook</a>'\n",
       "            + ' to learn more about interactive tables.';\n",
       "          element.innerHTML = '';\n",
       "          dataTable['output_type'] = 'display_data';\n",
       "          await google.colab.output.renderOutput(dataTable, element);\n",
       "          const docLink = document.createElement('div');\n",
       "          docLink.innerHTML = docLinkHtml;\n",
       "          element.appendChild(docLink);\n",
       "        }\n",
       "      </script>\n",
       "    </div>\n",
       "  </div>\n",
       "  "
      ],
      "text/plain": [
       "     mean_fit_time  std_fit_time  mean_score_time  std_score_time  \\\n",
       "0         0.636781      0.140841         0.050959        0.014732   \n",
       "1         1.267446      0.165303         0.092825        0.046257   \n",
       "2         0.618753      0.195729         0.064154        0.054417   \n",
       "3         3.256411      2.034697         0.198477        0.124244   \n",
       "4         0.158247      0.003361         0.011240        0.000152   \n",
       "..             ...           ...              ...             ...   \n",
       "283       1.668076      0.023232         0.116287        0.007534   \n",
       "284       0.171320      0.016470         0.011501        0.000480   \n",
       "285       0.330961      0.009858         0.021949        0.000567   \n",
       "286       0.504218      0.019710         0.032527        0.000787   \n",
       "287       1.648771      0.013266         0.113685        0.007941   \n",
       "\n",
       "    param_bootstrap param_max_depth param_max_features param_min_samples_leaf  \\\n",
       "0              True              80                  2                      3   \n",
       "1              True              80                  2                      3   \n",
       "2              True              80                  2                      3   \n",
       "3              True              80                  2                      3   \n",
       "4              True              80                  2                      3   \n",
       "..              ...             ...                ...                    ...   \n",
       "283            True             110                  3                      5   \n",
       "284            True             110                  3                      5   \n",
       "285            True             110                  3                      5   \n",
       "286            True             110                  3                      5   \n",
       "287            True             110                  3                      5   \n",
       "\n",
       "    param_min_samples_split param_n_estimators  ... mean_test_score  \\\n",
       "0                         8                100  ...        0.779229   \n",
       "1                         8                200  ...        0.782250   \n",
       "2                         8                300  ...        0.783255   \n",
       "3                         8               1000  ...        0.780240   \n",
       "4                        10                100  ...        0.780250   \n",
       "..                      ...                ...  ...             ...   \n",
       "283                      10               1000  ...        0.782260   \n",
       "284                      12                100  ...        0.783275   \n",
       "285                      12                200  ...        0.780250   \n",
       "286                      12                300  ...        0.782270   \n",
       "287                      12               1000  ...        0.784290   \n",
       "\n",
       "     std_test_score  rank_test_score  split0_train_score  split1_train_score  \\\n",
       "0          0.016707              249            0.885246            0.861286   \n",
       "1          0.015492              165            0.890290            0.867591   \n",
       "2          0.017841              137            0.887768            0.867591   \n",
       "3          0.016120              233            0.887768            0.865069   \n",
       "4          0.014322              205            0.871375            0.854981   \n",
       "..              ...              ...                 ...                 ...   \n",
       "283        0.005781              149            0.866330            0.843632   \n",
       "284        0.009870              109            0.860025            0.846154   \n",
       "285        0.008574              205            0.861286            0.851198   \n",
       "286        0.013063              141            0.858764            0.848676   \n",
       "287        0.013017               81            0.854981            0.841110   \n",
       "\n",
       "     split2_train_score  split3_train_score  split4_train_score  \\\n",
       "0              0.875315            0.865239            0.850126   \n",
       "1              0.874055            0.870277            0.860202   \n",
       "2              0.871537            0.866499            0.863980   \n",
       "3              0.872796            0.866499            0.858942   \n",
       "4              0.877834            0.858942            0.847607   \n",
       "..                  ...                 ...                 ...   \n",
       "283            0.861461            0.860202            0.840050   \n",
       "284            0.863980            0.848866            0.843829   \n",
       "285            0.860202            0.856423            0.842569   \n",
       "286            0.861461            0.845088            0.843829   \n",
       "287            0.858942            0.846348            0.837531   \n",
       "\n",
       "     mean_train_score  std_train_score  \n",
       "0            0.867442         0.012013  \n",
       "1            0.872483         0.009992  \n",
       "2            0.871475         0.008503  \n",
       "3            0.870215         0.009820  \n",
       "4            0.862148         0.010993  \n",
       "..                ...              ...  \n",
       "283          0.854335         0.010466  \n",
       "284          0.852571         0.007963  \n",
       "285          0.854336         0.006861  \n",
       "286          0.851564         0.007210  \n",
       "287          0.847782         0.008100  \n",
       "\n",
       "[288 rows x 26 columns]"
      ]
     },
     "execution_count": 44,
     "metadata": {},
     "output_type": "execute_result"
    }
   ],
   "source": [
    "cv_results = pd.DataFrame(grid_model.cv_results_)\n",
    "cv_results"
   ]
  },
  {
   "cell_type": "markdown",
   "metadata": {
    "id": "RkjhgAAwloJH"
   },
   "source": [
    "Final Model Evaluation"
   ]
  },
  {
   "cell_type": "code",
   "execution_count": null,
   "metadata": {
    "colab": {
     "base_uri": "https://localhost:8080/",
     "height": 388
    },
    "id": "kgab3lK1lpkY",
    "outputId": "56d5aa01-f310-4c17-a333-000e2b6131a4"
   },
   "outputs": [
    {
     "data": {
      "image/png": "[encoded data removed]",
      "text/plain": [
       "<Figure size 576x432 with 2 Axes>"
      ]
     },
     "metadata": {
      "needs_background": "light"
     },
     "output_type": "display_data"
    }
   ],
   "source": [
    "best_grid = grid_model.best_estimator_\n",
    "\n",
    "y_pred = best_grid.predict(features_test)\n",
    "cm = confusion_matrix(labels_test, y_pred)\n",
    "cm_display = ConfusionMatrixDisplay(cm).plot()"
   ]
  },
  {
   "cell_type": "code",
   "execution_count": null,
   "metadata": {
    "colab": {
     "base_uri": "https://localhost:8080/"
    },
    "id": "uO0kv-RGlt2N",
    "outputId": "39690d6f-f23b-4608-b5a7-d5bf6292e197"
   },
   "outputs": [
    {
     "data": {
      "text/plain": [
       "0.7959183673469388"
      ]
     },
     "execution_count": 47,
     "metadata": {},
     "output_type": "execute_result"
    }
   ],
   "source": [
    "accuracy_score(labels_test, y_pred)"
   ]
  },
  {
   "cell_type": "code",
   "execution_count": null,
   "metadata": {
    "colab": {
     "base_uri": "https://localhost:8080/"
    },
    "id": "OWnhTS0VlvXg",
    "outputId": "ca0bb806-4c4b-4d74-b5d5-d3385096b4a8"
   },
   "outputs": [
    {
     "name": "stdout",
     "output_type": "stream",
     "text": [
      "              precision    recall  f1-score   support\n",
      "\n",
      "           0       0.90      0.87      0.88       147\n",
      "           1       0.74      0.84      0.78       194\n",
      "           2       0.78      0.67      0.72       149\n",
      "\n",
      "    accuracy                           0.80       490\n",
      "   macro avg       0.81      0.79      0.80       490\n",
      "weighted avg       0.80      0.80      0.79       490\n",
      "\n"
     ]
    }
   ],
   "source": [
    "print(classification_report(labels_test, y_pred))"
   ]
  },
  {
   "cell_type": "code",
   "execution_count": null,
   "metadata": {
    "id": "r_M2TwQMl1ID"
   },
   "outputs": [],
   "source": [
    "from sklearn.linear_model import LogisticRegression\n",
    "\n",
    "from sklearn.metrics import roc_curve\n",
    "from sklearn.metrics import RocCurveDisplay\n",
    "from sklearn.preprocessing import label_binarize \n",
    "from sklearn.metrics import auc\n",
    "\n",
    "#Binarize the output\n",
    "y_test_bin = label_binarize(labels_test, classes=[0, 1, 2])\n",
    "n_classes = y_test_bin.shape[1]"
   ]
  },
  {
   "cell_type": "code",
   "execution_count": null,
   "metadata": {
    "colab": {
     "base_uri": "https://localhost:8080/",
     "height": 458
    },
    "id": "Rse9eaaTl5Ud",
    "outputId": "f9f74370-bd57-4df6-8660-5823564f9bcb",
    "scrolled": true
   },
   "outputs": [
    {
     "name": "stdout",
     "output_type": "stream",
     "text": [
      "AUC for Class 1: 0.9717280498205113\n",
      "AUC for Class 2: 0.9074254667038173\n",
      "AUC for Class 3: 0.916392765061308\n"
     ]
    },
    {
     "data": {
      "image/png": "[encoded data removed]",
      "text/plain": [
       "<Figure size 576x432 with 1 Axes>"
      ]
     },
     "metadata": {
      "needs_background": "light"
     },
     "output_type": "display_data"
    }
   ],
   "source": [
    "fpr = dict()\n",
    "tpr = dict()\n",
    "roc_auc = dict()\n",
    "\n",
    "y_score = best_grid.predict_proba(features_test)\n",
    "\n",
    "for i in range(n_classes):\n",
    "  fpr[i], tpr[i], _ = roc_curve(y_test_bin[:, i], y_score[:, i])\n",
    "  plt.plot(fpr[i], tpr[i], color='darkorange', lw=2)\n",
    "  print('AUC for Class {}: {}'.format(i+1, auc(fpr[i], tpr[i])))\n",
    "\n",
    "plt.plot([0, 1], [0, 1], color='navy', lw=2, linestyle='--')\n",
    "plt.xlim([0.0, 1.0])\n",
    "plt.ylim([0.0, 1.05])\n",
    "plt.xlabel('False Positive Rate')\n",
    "plt.ylabel('True Positive Rate')\n",
    "plt.title('Receiver Operating Characteristic Curves')\n",
    "plt.show()\n",
    "\n",
    "## source: https://laurenliz22.github.io/roc_curve_multiclass_predictions_random_forest_classifier"
   ]
  }
 ],
 "metadata": {
  "colab": {
   "provenance": []
  },
  "kernelspec": {
   "display_name": "Python 3 (ipykernel)",
   "language": "python",
   "name": "python3"
  },
  "language_info": {
   "codemirror_mode": {
    "name": "ipython",
    "version": 3
   },
   "file_extension": ".py",
   "mimetype": "text/x-python",
   "name": "python",
   "nbconvert_exporter": "python",
   "pygments_lexer": "ipython3",
   "version": "3.9.0"
  }
 },
 "nbformat": 4,
 "nbformat_minor": 1
}
